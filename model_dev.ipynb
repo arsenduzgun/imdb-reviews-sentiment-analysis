{
 "cells": [
  {
   "cell_type": "code",
   "execution_count": 1,
   "metadata": {},
   "outputs": [],
   "source": [
    "import pandas as pd\n",
    "\n",
    "df = pd.read_csv(\"IMDB_Dataset.csv\")"
   ]
  },
  {
   "cell_type": "code",
   "execution_count": 2,
   "metadata": {},
   "outputs": [
    {
     "data": {
      "text/html": [
       "<div>\n",
       "<style scoped>\n",
       "    .dataframe tbody tr th:only-of-type {\n",
       "        vertical-align: middle;\n",
       "    }\n",
       "\n",
       "    .dataframe tbody tr th {\n",
       "        vertical-align: top;\n",
       "    }\n",
       "\n",
       "    .dataframe thead th {\n",
       "        text-align: right;\n",
       "    }\n",
       "</style>\n",
       "<table border=\"1\" class=\"dataframe\">\n",
       "  <thead>\n",
       "    <tr style=\"text-align: right;\">\n",
       "      <th></th>\n",
       "      <th>review</th>\n",
       "      <th>sentiment</th>\n",
       "    </tr>\n",
       "  </thead>\n",
       "  <tbody>\n",
       "    <tr>\n",
       "      <th>0</th>\n",
       "      <td>One of the other reviewers has mentioned that ...</td>\n",
       "      <td>positive</td>\n",
       "    </tr>\n",
       "    <tr>\n",
       "      <th>1</th>\n",
       "      <td>A wonderful little production. &lt;br /&gt;&lt;br /&gt;The...</td>\n",
       "      <td>positive</td>\n",
       "    </tr>\n",
       "    <tr>\n",
       "      <th>2</th>\n",
       "      <td>I thought this was a wonderful way to spend ti...</td>\n",
       "      <td>positive</td>\n",
       "    </tr>\n",
       "    <tr>\n",
       "      <th>3</th>\n",
       "      <td>Basically there's a family where a little boy ...</td>\n",
       "      <td>negative</td>\n",
       "    </tr>\n",
       "    <tr>\n",
       "      <th>4</th>\n",
       "      <td>Petter Mattei's \"Love in the Time of Money\" is...</td>\n",
       "      <td>positive</td>\n",
       "    </tr>\n",
       "  </tbody>\n",
       "</table>\n",
       "</div>"
      ],
      "text/plain": [
       "                                              review sentiment\n",
       "0  One of the other reviewers has mentioned that ...  positive\n",
       "1  A wonderful little production. <br /><br />The...  positive\n",
       "2  I thought this was a wonderful way to spend ti...  positive\n",
       "3  Basically there's a family where a little boy ...  negative\n",
       "4  Petter Mattei's \"Love in the Time of Money\" is...  positive"
      ]
     },
     "execution_count": 2,
     "metadata": {},
     "output_type": "execute_result"
    }
   ],
   "source": [
    "df.head()"
   ]
  },
  {
   "cell_type": "code",
   "execution_count": 3,
   "metadata": {},
   "outputs": [
    {
     "data": {
      "text/plain": [
       "review       0\n",
       "sentiment    0\n",
       "dtype: int64"
      ]
     },
     "execution_count": 3,
     "metadata": {},
     "output_type": "execute_result"
    }
   ],
   "source": [
    "df.isnull().sum()"
   ]
  },
  {
   "cell_type": "code",
   "execution_count": 4,
   "metadata": {},
   "outputs": [
    {
     "data": {
      "text/html": [
       "<div>\n",
       "<style scoped>\n",
       "    .dataframe tbody tr th:only-of-type {\n",
       "        vertical-align: middle;\n",
       "    }\n",
       "\n",
       "    .dataframe tbody tr th {\n",
       "        vertical-align: top;\n",
       "    }\n",
       "\n",
       "    .dataframe thead th {\n",
       "        text-align: right;\n",
       "    }\n",
       "</style>\n",
       "<table border=\"1\" class=\"dataframe\">\n",
       "  <thead>\n",
       "    <tr style=\"text-align: right;\">\n",
       "      <th></th>\n",
       "      <th>review</th>\n",
       "      <th>sentiment</th>\n",
       "    </tr>\n",
       "  </thead>\n",
       "  <tbody>\n",
       "    <tr>\n",
       "      <th>3537</th>\n",
       "      <td>Quite what the producers of this appalling ada...</td>\n",
       "      <td>negative</td>\n",
       "    </tr>\n",
       "    <tr>\n",
       "      <th>3769</th>\n",
       "      <td>My favourite police series of all time turns t...</td>\n",
       "      <td>positive</td>\n",
       "    </tr>\n",
       "    <tr>\n",
       "      <th>4391</th>\n",
       "      <td>Beautiful film, pure Cassavetes style. Gena Ro...</td>\n",
       "      <td>positive</td>\n",
       "    </tr>\n",
       "    <tr>\n",
       "      <th>6352</th>\n",
       "      <td>If you liked the Grinch movie... go watch that...</td>\n",
       "      <td>negative</td>\n",
       "    </tr>\n",
       "    <tr>\n",
       "      <th>6479</th>\n",
       "      <td>I want very much to believe that the above quo...</td>\n",
       "      <td>negative</td>\n",
       "    </tr>\n",
       "    <tr>\n",
       "      <th>...</th>\n",
       "      <td>...</td>\n",
       "      <td>...</td>\n",
       "    </tr>\n",
       "    <tr>\n",
       "      <th>49912</th>\n",
       "      <td>This is an incredible piece of drama and power...</td>\n",
       "      <td>positive</td>\n",
       "    </tr>\n",
       "    <tr>\n",
       "      <th>49950</th>\n",
       "      <td>This was a very brief episode that appeared in...</td>\n",
       "      <td>negative</td>\n",
       "    </tr>\n",
       "    <tr>\n",
       "      <th>49984</th>\n",
       "      <td>Hello it is I Derrick Cannon and I welcome you...</td>\n",
       "      <td>negative</td>\n",
       "    </tr>\n",
       "    <tr>\n",
       "      <th>49986</th>\n",
       "      <td>This movie is a disgrace to the Major League F...</td>\n",
       "      <td>negative</td>\n",
       "    </tr>\n",
       "    <tr>\n",
       "      <th>49991</th>\n",
       "      <td>Les Visiteurs, the first movie about the medie...</td>\n",
       "      <td>negative</td>\n",
       "    </tr>\n",
       "  </tbody>\n",
       "</table>\n",
       "<p>418 rows × 2 columns</p>\n",
       "</div>"
      ],
      "text/plain": [
       "                                                  review sentiment\n",
       "3537   Quite what the producers of this appalling ada...  negative\n",
       "3769   My favourite police series of all time turns t...  positive\n",
       "4391   Beautiful film, pure Cassavetes style. Gena Ro...  positive\n",
       "6352   If you liked the Grinch movie... go watch that...  negative\n",
       "6479   I want very much to believe that the above quo...  negative\n",
       "...                                                  ...       ...\n",
       "49912  This is an incredible piece of drama and power...  positive\n",
       "49950  This was a very brief episode that appeared in...  negative\n",
       "49984  Hello it is I Derrick Cannon and I welcome you...  negative\n",
       "49986  This movie is a disgrace to the Major League F...  negative\n",
       "49991  Les Visiteurs, the first movie about the medie...  negative\n",
       "\n",
       "[418 rows x 2 columns]"
      ]
     },
     "execution_count": 4,
     "metadata": {},
     "output_type": "execute_result"
    }
   ],
   "source": [
    "df[df['review'].duplicated()]"
   ]
  },
  {
   "cell_type": "code",
   "execution_count": 5,
   "metadata": {},
   "outputs": [],
   "source": [
    "df = df.drop_duplicates(subset='review', keep='first')"
   ]
  },
  {
   "cell_type": "code",
   "execution_count": 6,
   "metadata": {},
   "outputs": [
    {
     "data": {
      "text/plain": [
       "sentiment\n",
       "positive    24884\n",
       "negative    24698\n",
       "Name: count, dtype: int64"
      ]
     },
     "execution_count": 6,
     "metadata": {},
     "output_type": "execute_result"
    }
   ],
   "source": [
    "df['sentiment'].value_counts()"
   ]
  },
  {
   "cell_type": "code",
   "execution_count": 7,
   "metadata": {},
   "outputs": [],
   "source": [
    "X = df['review']\n",
    "y = df['sentiment']"
   ]
  },
  {
   "cell_type": "code",
   "execution_count": 8,
   "metadata": {},
   "outputs": [],
   "source": [
    "from sklearn.model_selection import train_test_split\n",
    "\n",
    "random_state = 101\n",
    "X_train_val, X_test, y_train_val, y_test = train_test_split(X, y, test_size=0.1, random_state=random_state, stratify=y)\n",
    "X_train, X_val, y_train, y_val = train_test_split(X_train_val, y_train_val, test_size=0.1, random_state=random_state, stratify=y_train_val)"
   ]
  },
  {
   "cell_type": "code",
   "execution_count": 9,
   "metadata": {},
   "outputs": [
    {
     "data": {
      "text/plain": [
       "sentiment\n",
       "positive    2489\n",
       "negative    2470\n",
       "Name: count, dtype: int64"
      ]
     },
     "execution_count": 9,
     "metadata": {},
     "output_type": "execute_result"
    }
   ],
   "source": [
    "y_test.value_counts()"
   ]
  },
  {
   "cell_type": "code",
   "execution_count": 10,
   "metadata": {},
   "outputs": [],
   "source": [
    "y_train = y_train.map({'negative': 0, 'positive': 1}).values\n",
    "y_val = y_val.map({'negative': 0, 'positive': 1}).values\n",
    "y_test = y_test.map({'negative': 0, 'positive': 1}).values"
   ]
  },
  {
   "cell_type": "code",
   "execution_count": 11,
   "metadata": {},
   "outputs": [],
   "source": [
    "import re\n",
    "import contractions\n",
    "import spacy\n",
    "from nltk.tokenize import word_tokenize\n",
    "from nltk.stem import WordNetLemmatizer\n",
    "from nltk.corpus import wordnet\n",
    "from nltk.corpus import words\n",
    "from spacy.lang.en.stop_words import STOP_WORDS\n",
    "from symspellpy.symspellpy import SymSpell, Verbosity\n",
    "\n",
    "\n",
    "# Initialize components\n",
    "lemmatizer = WordNetLemmatizer()\n",
    "nlp = spacy.load(\"en_core_web_sm\")\n",
    "\n",
    "# Initialize SymSpell\n",
    "sym_spell = SymSpell(max_dictionary_edit_distance=2, prefix_length=7)\n",
    "dictionary_path = \"frequency_dictionary_en_82_765.txt\"\n",
    "sym_spell.load_dictionary(dictionary_path, term_index=0, count_index=1)\n",
    "\n",
    "# Custom stopwords\n",
    "stopwords_to_keep = {\n",
    "    \"not\", \"no\", \"nor\", \"never\", \"neither\",\n",
    "    \"but\", \"though\", \"although\", \"however\", \"yet\",\n",
    "    \"very\", \"too\", \"much\", \"more\", \"most\", \"almost\",\n",
    "    \"should\", \"could\", \"might\", \"may\", \"would\", \"can\", \"must\",\n",
    "    \"only\", \"against\", \"because\", \"than\"\n",
    "}\n",
    "custom_stopwords = STOP_WORDS - stopwords_to_keep\n",
    "\n",
    "# Set of valid words\n",
    "valid_words = set(words.words())\n",
    "\n",
    "# Get WordNet POS tag\n",
    "def get_wordnet_pos(spacy_tag):\n",
    "    if spacy_tag == \"ADJ\":\n",
    "        return wordnet.ADJ\n",
    "    elif spacy_tag == \"VERB\":\n",
    "        return wordnet.VERB\n",
    "    elif spacy_tag == \"NOUN\":\n",
    "        return wordnet.NOUN\n",
    "    elif spacy_tag == \"ADV\":\n",
    "        return wordnet.ADV\n",
    "    else:\n",
    "        return wordnet.NOUN\n",
    "\n",
    "# Correct spelling using SymSpell\n",
    "def symspell_correct(word):\n",
    "    suggestions = sym_spell.lookup(word, Verbosity.CLOSEST, max_edit_distance=2)\n",
    "    return suggestions[0].term if suggestions else word\n",
    "\n",
    "# Preprocess text\n",
    "def preprocess_text(text):\n",
    "    # Lowercase the text\n",
    "    text = text.lower()\n",
    "    #print(\"After lowering:\", text)\n",
    "\n",
    "    # Expand contractions\n",
    "    text = contractions.fix(text)\n",
    "    #print(\"After contractions:\", text)\n",
    "\n",
    "    # Remove non-alphabetic characters\n",
    "    text = re.sub(r'[^a-zA-Z\\s]', '', text)\n",
    "    #print(\"After non-alphabetic characters removal:\", text)\n",
    "\n",
    "    # Tokenize text\n",
    "    tokens = word_tokenize(text)\n",
    "    #print(\"Tokens:\", tokens)\n",
    "\n",
    "    # Rpelling correction\n",
    "    tokens = [symspell_correct(word) for word in tokens]\n",
    "    #print(\"After SymSpell:\", tokens)\n",
    "\n",
    "    # Remove stopwords\n",
    "    tokens = [word for word in tokens if word not in custom_stopwords]\n",
    "    #print(\"After Stopword Removal:\", tokens)\n",
    "\n",
    "    # Use spaCy for POS tagging\n",
    "    doc = nlp(\" \".join(tokens))\n",
    "    #pos_tags = [(token.text, token.pos_) for token in doc]\n",
    "    #print(\"POS Tags:\", pos_tags)\n",
    "\n",
    "    # Lemmatize tokens\n",
    "    tokens = [lemmatizer.lemmatize(token.text, get_wordnet_pos(token.pos_)) for token in doc]\n",
    "    #print(\"After Lemmatization:\", tokens)\n",
    "\n",
    "    # Remove invalid words\n",
    "    tokens = [word for word in tokens if word in valid_words]\n",
    "    #print(\"Valid Tokens:\", tokens)\n",
    "\n",
    "    return tokens"
   ]
  },
  {
   "cell_type": "code",
   "execution_count": 12,
   "metadata": {},
   "outputs": [],
   "source": [
    "X_train_preprocessed = X_train.apply(preprocess_text)\n",
    "X_val_preprocessed = X_val.apply(preprocess_text)\n",
    "X_test_preprocessed = X_test.apply(preprocess_text)"
   ]
  },
  {
   "cell_type": "code",
   "execution_count": 13,
   "metadata": {},
   "outputs": [],
   "source": [
    "import numpy as np\n",
    "\n",
    "embedding_dim = 100\n",
    "glove_path = \"glove.6B.100d.txt\"\n",
    "\n",
    "embeddings_index = {}\n",
    "with open(glove_path, encoding=\"utf-8\") as f:\n",
    "    for line in f:\n",
    "        values = line.split()\n",
    "        word = values[0]\n",
    "        coefs = np.asarray(values[1:], dtype=\"float32\")\n",
    "        embeddings_index[word] = coefs\n"
   ]
  },
  {
   "cell_type": "code",
   "execution_count": 14,
   "metadata": {},
   "outputs": [],
   "source": [
    "from tensorflow.keras.preprocessing.text import Tokenizer\n",
    "\n",
    "tokenizer = Tokenizer()\n",
    "tokenizer.fit_on_texts(X_train_preprocessed)\n",
    "word_index = tokenizer.word_index\n",
    "\n",
    "embedding_matrix = np.zeros((len(word_index) + 1, embedding_dim))\n",
    "for word, i in word_index.items():\n",
    "    embedding_vector = embeddings_index.get(word)\n",
    "    if embedding_vector is not None:\n",
    "        embedding_matrix[i] = embedding_vector\n"
   ]
  },
  {
   "cell_type": "code",
   "execution_count": 15,
   "metadata": {},
   "outputs": [],
   "source": [
    "from tensorflow.keras.preprocessing.sequence import pad_sequences\n",
    "\n",
    "X_train_seq = tokenizer.texts_to_sequences(X_train_preprocessed)\n",
    "X_val_seq = tokenizer.texts_to_sequences(X_val_preprocessed)\n",
    "X_test_seq = tokenizer.texts_to_sequences(X_test_preprocessed)\n",
    "\n",
    "max_length = 100\n",
    "X_train_pad = pad_sequences(X_train_seq, maxlen=max_length, padding='post')\n",
    "X_val_pad = pad_sequences(X_val_seq, maxlen=max_length, padding='post')\n",
    "X_test_pad = pad_sequences(X_test_seq, maxlen=max_length, padding='post')"
   ]
  },
  {
   "cell_type": "code",
   "execution_count": 20,
   "metadata": {},
   "outputs": [
    {
     "name": "stdout",
     "output_type": "stream",
     "text": [
      "Epoch 1/50\n",
      "\u001b[1m1255/1255\u001b[0m \u001b[32m━━━━━━━━━━━━━━━━━━━━\u001b[0m\u001b[37m\u001b[0m \u001b[1m56s\u001b[0m 40ms/step - accuracy: 0.7013 - loss: 0.5647 - val_accuracy: 0.8131 - val_loss: 0.4167\n",
      "Epoch 2/50\n",
      "\u001b[1m1255/1255\u001b[0m \u001b[32m━━━━━━━━━━━━━━━━━━━━\u001b[0m\u001b[37m\u001b[0m \u001b[1m38s\u001b[0m 30ms/step - accuracy: 0.8115 - loss: 0.4174 - val_accuracy: 0.8342 - val_loss: 0.3693\n",
      "Epoch 3/50\n",
      "\u001b[1m1255/1255\u001b[0m \u001b[32m━━━━━━━━━━━━━━━━━━━━\u001b[0m\u001b[37m\u001b[0m \u001b[1m38s\u001b[0m 30ms/step - accuracy: 0.8297 - loss: 0.3787 - val_accuracy: 0.8293 - val_loss: 0.3758\n",
      "Epoch 4/50\n",
      "\u001b[1m1255/1255\u001b[0m \u001b[32m━━━━━━━━━━━━━━━━━━━━\u001b[0m\u001b[37m\u001b[0m \u001b[1m36s\u001b[0m 29ms/step - accuracy: 0.8463 - loss: 0.3488 - val_accuracy: 0.8490 - val_loss: 0.3361\n",
      "Epoch 5/50\n",
      "\u001b[1m1255/1255\u001b[0m \u001b[32m━━━━━━━━━━━━━━━━━━━━\u001b[0m\u001b[37m\u001b[0m \u001b[1m44s\u001b[0m 35ms/step - accuracy: 0.8589 - loss: 0.3254 - val_accuracy: 0.8584 - val_loss: 0.3343\n",
      "Epoch 6/50\n",
      "\u001b[1m1255/1255\u001b[0m \u001b[32m━━━━━━━━━━━━━━━━━━━━\u001b[0m\u001b[37m\u001b[0m \u001b[1m50s\u001b[0m 40ms/step - accuracy: 0.8664 - loss: 0.3094 - val_accuracy: 0.8622 - val_loss: 0.3185\n",
      "Epoch 7/50\n",
      "\u001b[1m1255/1255\u001b[0m \u001b[32m━━━━━━━━━━━━━━━━━━━━\u001b[0m\u001b[37m\u001b[0m \u001b[1m41s\u001b[0m 33ms/step - accuracy: 0.8754 - loss: 0.2924 - val_accuracy: 0.8660 - val_loss: 0.3164\n",
      "Epoch 8/50\n",
      "\u001b[1m1255/1255\u001b[0m \u001b[32m━━━━━━━━━━━━━━━━━━━━\u001b[0m\u001b[37m\u001b[0m \u001b[1m49s\u001b[0m 39ms/step - accuracy: 0.8826 - loss: 0.2750 - val_accuracy: 0.8674 - val_loss: 0.3137\n",
      "Epoch 9/50\n",
      "\u001b[1m1255/1255\u001b[0m \u001b[32m━━━━━━━━━━━━━━━━━━━━\u001b[0m\u001b[37m\u001b[0m \u001b[1m65s\u001b[0m 26ms/step - accuracy: 0.8878 - loss: 0.2633 - val_accuracy: 0.8620 - val_loss: 0.3244\n",
      "Epoch 10/50\n",
      "\u001b[1m1255/1255\u001b[0m \u001b[32m━━━━━━━━━━━━━━━━━━━━\u001b[0m\u001b[37m\u001b[0m \u001b[1m36s\u001b[0m 29ms/step - accuracy: 0.8935 - loss: 0.2501 - val_accuracy: 0.8727 - val_loss: 0.3136\n",
      "Epoch 11/50\n",
      "\u001b[1m1255/1255\u001b[0m \u001b[32m━━━━━━━━━━━━━━━━━━━━\u001b[0m\u001b[37m\u001b[0m \u001b[1m66s\u001b[0m 53ms/step - accuracy: 0.8979 - loss: 0.2395 - val_accuracy: 0.8712 - val_loss: 0.3117\n",
      "Epoch 12/50\n",
      "\u001b[1m1255/1255\u001b[0m \u001b[32m━━━━━━━━━━━━━━━━━━━━\u001b[0m\u001b[37m\u001b[0m \u001b[1m76s\u001b[0m 48ms/step - accuracy: 0.9085 - loss: 0.2237 - val_accuracy: 0.8721 - val_loss: 0.3101\n",
      "Epoch 13/50\n",
      "\u001b[1m1255/1255\u001b[0m \u001b[32m━━━━━━━━━━━━━━━━━━━━\u001b[0m\u001b[37m\u001b[0m \u001b[1m35s\u001b[0m 28ms/step - accuracy: 0.9134 - loss: 0.2122 - val_accuracy: 0.8709 - val_loss: 0.3256\n",
      "Epoch 14/50\n",
      "\u001b[1m1255/1255\u001b[0m \u001b[32m━━━━━━━━━━━━━━━━━━━━\u001b[0m\u001b[37m\u001b[0m \u001b[1m41s\u001b[0m 32ms/step - accuracy: 0.9145 - loss: 0.2071 - val_accuracy: 0.8691 - val_loss: 0.3290\n",
      "Epoch 15/50\n",
      "\u001b[1m1255/1255\u001b[0m \u001b[32m━━━━━━━━━━━━━━━━━━━━\u001b[0m\u001b[37m\u001b[0m \u001b[1m51s\u001b[0m 40ms/step - accuracy: 0.9210 - loss: 0.1986 - val_accuracy: 0.8721 - val_loss: 0.3455\n",
      "Epoch 16/50\n",
      "\u001b[1m1255/1255\u001b[0m \u001b[32m━━━━━━━━━━━━━━━━━━━━\u001b[0m\u001b[37m\u001b[0m \u001b[1m58s\u001b[0m 46ms/step - accuracy: 0.9201 - loss: 0.1941 - val_accuracy: 0.8759 - val_loss: 0.3309\n",
      "Epoch 17/50\n",
      "\u001b[1m1255/1255\u001b[0m \u001b[32m━━━━━━━━━━━━━━━━━━━━\u001b[0m\u001b[37m\u001b[0m \u001b[1m46s\u001b[0m 36ms/step - accuracy: 0.9308 - loss: 0.1770 - val_accuracy: 0.8718 - val_loss: 0.3415\n"
     ]
    }
   ],
   "source": [
    "from tensorflow.keras.models import Sequential\n",
    "from tensorflow.keras.layers import Embedding, LSTM, Dense, Dropout, Bidirectional\n",
    "from tensorflow.keras.callbacks import EarlyStopping\n",
    "\n",
    "model = Sequential()\n",
    "\n",
    "model.add(Embedding(input_dim=len(word_index) + 1,\n",
    "                    output_dim=embedding_dim,\n",
    "                    weights=[embedding_matrix],\n",
    "                    trainable=False))\n",
    "\n",
    "model.add(Bidirectional(LSTM(128, return_sequences=False, dropout=0.2, recurrent_dropout=0.2)))\n",
    "\n",
    "\n",
    "model.add(Dropout(0.2))\n",
    "\n",
    "model.add(Dense(1, activation='sigmoid'))\n",
    "\n",
    "model.compile(optimizer='adam', loss='binary_crossentropy', metrics=['accuracy'])\n",
    "\n",
    "early_stopping = EarlyStopping(monitor='val_loss', patience=5)\n",
    "\n",
    "history = model.fit(X_train_pad, y_train, \n",
    "                    epochs=50, \n",
    "                    batch_size=32,\n",
    "                    validation_data=(X_val_pad, y_val),\n",
    "                    callbacks=[early_stopping])"
   ]
  },
  {
   "cell_type": "code",
   "execution_count": 21,
   "metadata": {},
   "outputs": [
    {
     "data": {
      "image/png": "[encoded data removed]",
      "text/plain": [
       "<Figure size 1400x600 with 2 Axes>"
      ]
     },
     "metadata": {},
     "output_type": "display_data"
    }
   ],
   "source": [
    "import matplotlib.pyplot as plt\n",
    "\n",
    "total_epochs = len(history.history['accuracy'])\n",
    "xticks_range = range(1, total_epochs + 1)\n",
    "\n",
    "plt.figure(figsize=(14, 6))\n",
    "plt.subplot(1, 2, 1)\n",
    "plt.plot(xticks_range, history.history['accuracy'], label='Train Accuracy')\n",
    "plt.plot(xticks_range, history.history['val_accuracy'], label='Validation Accuracy')\n",
    "plt.xticks(xticks_range)\n",
    "plt.title('Model Accuracy')\n",
    "plt.xlabel('Epochs')\n",
    "plt.ylabel('Accuracy')\n",
    "plt.legend()\n",
    "\n",
    "plt.subplot(1, 2, 2)\n",
    "plt.plot(xticks_range, history.history['loss'], label='Train Loss')\n",
    "plt.plot(xticks_range, history.history['val_loss'], label='Validation Loss')\n",
    "plt.xticks(xticks_range)\n",
    "plt.title('Model Loss')\n",
    "plt.xlabel('Epochs')\n",
    "plt.ylabel('Loss')\n",
    "plt.legend()\n",
    "\n",
    "plt.tight_layout()\n",
    "plt.show()\n"
   ]
  },
  {
   "cell_type": "code",
   "execution_count": 22,
   "metadata": {},
   "outputs": [
    {
     "name": "stdout",
     "output_type": "stream",
     "text": [
      "\u001b[1m155/155\u001b[0m \u001b[32m━━━━━━━━━━━━━━━━━━━━\u001b[0m\u001b[37m\u001b[0m \u001b[1m6s\u001b[0m 34ms/step\n"
     ]
    },
    {
     "data": {
      "image/png": "[encoded data removed]",
      "text/plain": [
       "<Figure size 640x480 with 2 Axes>"
      ]
     },
     "metadata": {},
     "output_type": "display_data"
    }
   ],
   "source": [
    "from sklearn.metrics import confusion_matrix, ConfusionMatrixDisplay\n",
    "\n",
    "y_pred_prob = model.predict(X_test_pad)\n",
    "y_pred = (y_pred_prob >= 0.5).astype(int)\n",
    "cm = confusion_matrix(y_test, y_pred)\n",
    "disp = ConfusionMatrixDisplay(confusion_matrix=cm, display_labels=df['sentiment'].unique())\n",
    "disp.plot(cmap=plt.cm.Blues)\n",
    "plt.xticks(rotation=90)\n",
    "plt.show()"
   ]
  },
  {
   "cell_type": "code",
   "execution_count": 23,
   "metadata": {},
   "outputs": [],
   "source": [
    "import pickle\n",
    "\n",
    "X_preprocessed = X.apply(preprocess_text)\n",
    "tokenizer_final = Tokenizer()\n",
    "tokenizer_final.fit_on_texts(X_preprocessed)\n",
    "\n",
    "with open('tokenizer.pickle', 'wb') as handle:\n",
    "    pickle.dump(tokenizer_final, handle, protocol=pickle.HIGHEST_PROTOCOL)\n",
    "\n",
    "word_index_final = tokenizer_final.word_index\n",
    "embedding_matrix_final = np.zeros((len(word_index_final) + 1, embedding_dim))\n",
    "\n",
    "for word, i in word_index_final.items():\n",
    "    embedding_vector_final = embeddings_index.get(word)\n",
    "    if embedding_vector_final is not None:\n",
    "        embedding_matrix_final[i] = embedding_vector_final\n",
    "\n",
    "X_seq = tokenizer_final.texts_to_sequences(X_preprocessed)\n",
    "X_pad = pad_sequences(X_seq, maxlen=max_length, padding='post')\n",
    "y = y.map({'negative': 0, 'positive': 1}).values"
   ]
  },
  {
   "cell_type": "code",
   "execution_count": 24,
   "metadata": {},
   "outputs": [
    {
     "name": "stdout",
     "output_type": "stream",
     "text": [
      "Epoch 1/12\n",
      "\u001b[1m1550/1550\u001b[0m \u001b[32m━━━━━━━━━━━━━━━━━━━━\u001b[0m\u001b[37m\u001b[0m \u001b[1m67s\u001b[0m 41ms/step - accuracy: 0.6979 - loss: 0.5732\n",
      "Epoch 2/12\n",
      "\u001b[1m1550/1550\u001b[0m \u001b[32m━━━━━━━━━━━━━━━━━━━━\u001b[0m\u001b[37m\u001b[0m \u001b[1m75s\u001b[0m 48ms/step - accuracy: 0.8160 - loss: 0.4069\n",
      "Epoch 3/12\n",
      "\u001b[1m1550/1550\u001b[0m \u001b[32m━━━━━━━━━━━━━━━━━━━━\u001b[0m\u001b[37m\u001b[0m \u001b[1m44s\u001b[0m 29ms/step - accuracy: 0.8384 - loss: 0.3679\n",
      "Epoch 4/12\n",
      "\u001b[1m1550/1550\u001b[0m \u001b[32m━━━━━━━━━━━━━━━━━━━━\u001b[0m\u001b[37m\u001b[0m \u001b[1m46s\u001b[0m 29ms/step - accuracy: 0.8496 - loss: 0.3466\n",
      "Epoch 5/12\n",
      "\u001b[1m1550/1550\u001b[0m \u001b[32m━━━━━━━━━━━━━━━━━━━━\u001b[0m\u001b[37m\u001b[0m \u001b[1m52s\u001b[0m 34ms/step - accuracy: 0.8590 - loss: 0.3255\n",
      "Epoch 6/12\n",
      "\u001b[1m1550/1550\u001b[0m \u001b[32m━━━━━━━━━━━━━━━━━━━━\u001b[0m\u001b[37m\u001b[0m \u001b[1m46s\u001b[0m 30ms/step - accuracy: 0.8696 - loss: 0.3029\n",
      "Epoch 7/12\n",
      "\u001b[1m1550/1550\u001b[0m \u001b[32m━━━━━━━━━━━━━━━━━━━━\u001b[0m\u001b[37m\u001b[0m \u001b[1m70s\u001b[0m 45ms/step - accuracy: 0.8775 - loss: 0.2882\n",
      "Epoch 8/12\n",
      "\u001b[1m1550/1550\u001b[0m \u001b[32m━━━━━━━━━━━━━━━━━━━━\u001b[0m\u001b[37m\u001b[0m \u001b[1m65s\u001b[0m 34ms/step - accuracy: 0.8849 - loss: 0.2752\n",
      "Epoch 9/12\n",
      "\u001b[1m1550/1550\u001b[0m \u001b[32m━━━━━━━━━━━━━━━━━━━━\u001b[0m\u001b[37m\u001b[0m \u001b[1m58s\u001b[0m 37ms/step - accuracy: 0.8919 - loss: 0.2610\n",
      "Epoch 10/12\n",
      "\u001b[1m1550/1550\u001b[0m \u001b[32m━━━━━━━━━━━━━━━━━━━━\u001b[0m\u001b[37m\u001b[0m \u001b[1m63s\u001b[0m 41ms/step - accuracy: 0.8974 - loss: 0.2490\n",
      "Epoch 11/12\n",
      "\u001b[1m1550/1550\u001b[0m \u001b[32m━━━━━━━━━━━━━━━━━━━━\u001b[0m\u001b[37m\u001b[0m \u001b[1m65s\u001b[0m 42ms/step - accuracy: 0.9020 - loss: 0.2394\n",
      "Epoch 12/12\n",
      "\u001b[1m1550/1550\u001b[0m \u001b[32m━━━━━━━━━━━━━━━━━━━━\u001b[0m\u001b[37m\u001b[0m \u001b[1m45s\u001b[0m 29ms/step - accuracy: 0.9033 - loss: 0.2321\n"
     ]
    },
    {
     "data": {
      "text/plain": [
       "<keras.src.callbacks.history.History at 0x28e8f93aa50>"
      ]
     },
     "execution_count": 24,
     "metadata": {},
     "output_type": "execute_result"
    }
   ],
   "source": [
    "model_final = Sequential()\n",
    "\n",
    "model_final.add(Embedding(input_dim=len(word_index_final) + 1,\n",
    "                    output_dim=embedding_dim,\n",
    "                    weights=[embedding_matrix_final],\n",
    "                    trainable=False))\n",
    "\n",
    "model_final.add(Bidirectional(LSTM(128, return_sequences=False, dropout=0.2, recurrent_dropout=0.2)))\n",
    "\n",
    "model_final.add(Dropout(0.2))\n",
    "\n",
    "model_final.add(Dense(1, activation='sigmoid'))\n",
    "\n",
    "model_final.compile(optimizer='adam', loss='binary_crossentropy', metrics=['accuracy'])\n",
    "\n",
    "val_loss = history.history['val_loss']\n",
    "\n",
    "optimal_total_epochs = val_loss.index(min(val_loss)) + 1\n",
    "\n",
    "model_final.fit(X_pad, y, epochs=optimal_total_epochs, batch_size=32)"
   ]
  },
  {
   "cell_type": "code",
   "execution_count": 25,
   "metadata": {},
   "outputs": [
    {
     "data": {
      "text/plain": [
       "['model.pkl']"
      ]
     },
     "execution_count": 25,
     "metadata": {},
     "output_type": "execute_result"
    }
   ],
   "source": [
    "import joblib\n",
    "\n",
    "joblib.dump(model_final, 'model.pkl')"
   ]
  },
  {
   "cell_type": "code",
   "execution_count": null,
   "metadata": {},
   "outputs": [],
   "source": []
  }
 ],
 "metadata": {
  "kernelspec": {
   "display_name": "base",
   "language": "python",
   "name": "python3"
  },
  "language_info": {
   "codemirror_mode": {
    "name": "ipython",
    "version": 3
   },
   "file_extension": ".py",
   "mimetype": "text/x-python",
   "name": "python",
   "nbconvert_exporter": "python",
   "pygments_lexer": "ipython3",
   "version": "3.12.4"
  }
 },
 "nbformat": 4,
 "nbformat_minor": 2
}
